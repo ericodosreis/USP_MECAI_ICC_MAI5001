{
  "nbformat": 4,
  "nbformat_minor": 0,
  "metadata": {
    "colab": {
      "provenance": [],
      "authorship_tag": "ABX9TyPpSvjxnuY6F0eysfdlz6ow",
      "include_colab_link": true
    },
    "kernelspec": {
      "name": "python3",
      "display_name": "Python 3"
    },
    "language_info": {
      "name": "python"
    }
  },
  "cells": [
    {
      "cell_type": "markdown",
      "metadata": {
        "id": "view-in-github",
        "colab_type": "text"
      },
      "source": [
        "<a href=\"https://colab.research.google.com/github/ericodosreis/USP_MECAI_ICC_MAI5001/blob/main/Lista_1_%5BTipos_Estruturados%5D.ipynb\" target=\"_parent\"><img src=\"https://colab.research.google.com/assets/colab-badge.svg\" alt=\"Open In Colab\"/></a>"
      ]
    },
    {
      "cell_type": "markdown",
      "source": [
        "Disciplina: MAI5001 - Introdução à Ciência de Computação\n",
        "\n",
        "[Tipos Estruturados]"
      ],
      "metadata": {
        "id": "hiOnFXorzJdP"
      }
    },
    {
      "cell_type": "markdown",
      "source": [
        "**Verificação de valores únicos em uma lista**\n",
        "\n",
        "Dada uma lista de números, escreva uma função que retorne True se todos os elementos forem únicos e False se houver elementos repetidos.\n",
        "\n",
        "Entrada\n",
        "\n",
        "\"1 2 3 4\"\n",
        "\n",
        "Saída\n",
        "\n",
        "True"
      ],
      "metadata": {
        "id": "I-4ioSO6zJlE"
      }
    },
    {
      "cell_type": "code",
      "source": [
        "def valores_unicos(lista):\n",
        "    return len(lista) == len(set(lista))\n",
        "\n",
        "# Input\n",
        "nums = list(map(int, input().split()))\n",
        "\n",
        "# Output\n",
        "print(valores_unicos(nums))\n"
      ],
      "metadata": {
        "id": "GoGVByxWzXFc"
      },
      "execution_count": null,
      "outputs": []
    },
    {
      "cell_type": "markdown",
      "source": [
        "**Mesclando dois dicionários**\n",
        "\n",
        "Dado dois dicionários, escreva uma função que mescle os dois dicionários em um único. Se houver chaves repetidas, os valores do segundo dicionário devem prevalecer.\n",
        "\n",
        "A função deve retornar o dicionário mesclado.\n",
        "\n",
        "Entrada\n",
        "\n",
        "{'a': 1, 'b': 2}; {'b': 3, 'c': 4}\n",
        "\n",
        "Saída\n",
        "\n",
        "{'a': 1, 'b': 3, 'c': 4}"
      ],
      "metadata": {
        "id": "uDhbO3rxzXSb"
      }
    },
    {
      "cell_type": "code",
      "source": [
        "def mesclar_dicts(dict1, dict2):\n",
        "    return {**dict1, **dict2}\n",
        "\n",
        "# Input (dois dicionários na mesma linha, separados por \";\")\n",
        "entrada = input()\n",
        "\n",
        "# Divide e converte cada parte em dicionário\n",
        "d1_str, d2_str = entrada.split(\";\")\n",
        "d1 = eval(d1_str.strip())\n",
        "d2 = eval(d2_str.strip())\n",
        "\n",
        "# Output\n",
        "print(mesclar_dicts(d1, d2))"
      ],
      "metadata": {
        "id": "HD6FGhMYzeQK"
      },
      "execution_count": null,
      "outputs": []
    },
    {
      "cell_type": "markdown",
      "source": [
        "**Mesclar Dicionários com Função de Combinação** - ERRADO\n",
        "\n",
        "Escreva uma função que receba dois dicionários e uma função de combinação, e aplique essa função para combinar os valores das chaves presentes em ambos os dicionários. Se uma chave existir apenas em um dos dicionários, o valor dessa chave será adicionado ao dicionário resultante como está.\n",
        "\n",
        "Entrada\n",
        "\n",
        "2 (quantos pares chave-valor deseja inserir no primeiro dicionário)\n",
        "\n",
        "a (chave)\n",
        "\n",
        "10 (valor)\n",
        "\n",
        "b (chave)\n",
        "\n",
        "5 (valor)\n",
        "\n",
        "2 (quantos pares chave-valor deseja inserir no segundo dicionário)\n",
        "\n",
        "b (chave)\n",
        "\n",
        "15 (valor)\n",
        "\n",
        "c (chave)\n",
        "\n",
        "20 (valor)\n",
        "\n",
        "Primeiro informa quantos pares chave-valor deseja inserir no primeiro dicionário: 2 Depois digite a chave: a e digite o valor: 10 Depois digite a chave: b e digite o valor: 5\n",
        "\n",
        "Saída\n",
        "\n",
        "{'a': 10, 'b': 20, 'c': 20}\n",
        "\n",
        "A saída é um dicionário mesclado.\n",
        "\n",
        "Entrada\n",
        "\n",
        "1\n",
        "\n",
        "a\n",
        "\n",
        "1\n",
        "\n",
        "1\n",
        "\n",
        "b\n",
        "\n",
        "2\n",
        "\n",
        "Saída\n",
        "\n",
        "{'a': 1, 'b': 2}"
      ],
      "metadata": {
        "id": "24s0pyAwzebV"
      }
    },
    {
      "cell_type": "code",
      "source": [
        "def mesclar_com_func(d1, d2, func):\n",
        "    resultado = d1.copy()  # Começa com o primeiro dicionário\n",
        "    for chave, valor in d2.items():\n",
        "        if chave in resultado:\n",
        "            # Aplica a função de combinação\n",
        "            resultado[chave] = func(resultado[chave], valor)\n",
        "        else:\n",
        "            resultado[chave] = valor\n",
        "    return resultado\n",
        "\n",
        "# Função de combinação: soma\n",
        "def soma(x, y):\n",
        "    return x + y\n",
        "\n",
        "# Leitura do primeiro dicionário\n",
        "d1 = {}\n",
        "n1 = int(input(\"Quantos pares chave-valor deseja inserir no primeiro dicionário? \"))\n",
        "for _ in range(n1):\n",
        "    chave = input(\"Digite a chave: \")\n",
        "    valor = int(input(\"Digite o valor: \"))\n",
        "    d1[chave] = valor\n",
        "\n",
        "# Leitura do segundo dicionário\n",
        "d2 = {}\n",
        "n2 = int(input(\"Quantos pares chave-valor deseja inserir no segundo dicionário? \"))\n",
        "for _ in range(n2):\n",
        "    chave = input(\"Digite a chave: \")\n",
        "    valor = int(input(\"Digite o valor: \"))\n",
        "    d2[chave] = valor\n",
        "\n",
        "# Mescla os dicionários usando a função de combinação\n",
        "resultado = mesclar_com_func(d1, d2, soma)\n",
        "\n",
        "# Resultado\n",
        "print(resultado)\n"
      ],
      "metadata": {
        "colab": {
          "base_uri": "https://localhost:8080/"
        },
        "id": "SkvJQSnCzrJT",
        "outputId": "8adc61a8-8a62-42de-9dd3-0606ee8eaf7b"
      },
      "execution_count": 3,
      "outputs": [
        {
          "output_type": "stream",
          "name": "stdout",
          "text": [
            "Quantos pares chave-valor deseja inserir no primeiro dicionário? 2\n",
            "Digite a chave: p\n",
            "Digite o valor: 7\n",
            "Digite a chave: q\n",
            "Digite o valor: 9\n",
            "Quantos pares chave-valor deseja inserir no segundo dicionário? 2\n",
            "Digite a chave: q\n",
            "Digite o valor: 3\n",
            "Digite a chave: r\n",
            "Digite o valor: 5\n",
            "{'p': 7, 'q': 12, 'r': 5}\n"
          ]
        }
      ]
    },
    {
      "cell_type": "markdown",
      "source": [
        "**Filtrando Dicionário por Valor**\n",
        "\n",
        "Escreva uma função que receba um dicionário e um valor limite, e retorne um novo dicionário contendo apenas os pares chave-valor cujos valores são maiores que o limite especificado.\n",
        "\n",
        "Entrada\n",
        "\n",
        "3\n",
        "\n",
        "a\n",
        "\n",
        "10\n",
        "\n",
        "b\n",
        "\n",
        "5\n",
        "\n",
        "c\n",
        "\n",
        "15\n",
        "\n",
        "8\n",
        "\n",
        "O usuário insere quantos pares deseja adicionar ao dicionário. Para cada par, insere-se uma chave e um valor. O valor deve ser validado como um número inteiro. Após a criação do dicionário, o usuário insere o limite, e a função filtra as entradas com valores acima desse limite.\n",
        "\n",
        "Saída\n",
        "\n",
        "{'a': 10, 'c': 15}\n",
        "\n",
        "O dicionário filtrado é impresso com apenas os pares que possuem valores maiores que o limite especificado."
      ],
      "metadata": {
        "id": "fP2h1tAMzrYZ"
      }
    },
    {
      "cell_type": "code",
      "source": [],
      "metadata": {
        "id": "tOoIDCfZzy3_"
      },
      "execution_count": null,
      "outputs": []
    },
    {
      "cell_type": "markdown",
      "source": [
        "**Alunos e suas notas [Tipos Estruturados- Difícil]**\n",
        "\n",
        "Dado um dicionário onde as chaves são os nomes dos alunos e os valores são listas de notas, escreva uma função que calcule a média das notas de cada aluno. A função deve retornar um dicionário com os alunos e suas respectivas médias.\n",
        "\n",
        "Entrada\n",
        "\n",
        "{'Ana': [10, 8, 9], 'Beto': [7, 5, 6], 'Carla': [8, 9, 10]}\n",
        "\n",
        "Saída\n",
        "\n",
        "{'Ana': 9.0, 'Beto': 6.0, 'Carla': 9.0}\n"
      ],
      "metadata": {
        "id": "SE5Vw5LFz2Gc"
      }
    },
    {
      "cell_type": "code",
      "source": [],
      "metadata": {
        "id": "d_-MZ8tqz975"
      },
      "execution_count": null,
      "outputs": []
    },
    {
      "cell_type": "markdown",
      "source": [
        "**Ordenar lista de tuplas por valor [Tipos Estruturados- Média]**\n",
        "\n",
        "Dada uma lista de tuplas onde cada tupla contém um nome e uma idade, escreva uma função que ordene a lista pela idade em ordem crescente. A função deve retornar a lista ordenada.\n",
        "\n",
        "Entrada\n",
        "\n",
        "A entrada será uma lista de tuplas. Cada tupla contém duas informações:\n",
        "\n",
        "O primeiro elemento da tupla é uma string representando um nome.\n",
        "O segundo elemento da tupla é um número inteiro representando a idade dessa pessoa.\n",
        "\n",
        "Saída\n",
        "\n",
        "A saída será a lista de tuplas ordenada pela idade em ordem crescente.\n",
        "\n",
        "Exemplo de Entrada:\n",
        "\n",
        "[('João', 25), ('Maria', 22), ('Pedro', 30)]\n",
        "\n",
        "Exemplo de Saída:\n",
        "\n",
        "[('Maria', 22), ('João', 25), ('Pedro', 30)]"
      ],
      "metadata": {
        "id": "PW_4kFAUz-IF"
      }
    },
    {
      "cell_type": "code",
      "source": [],
      "metadata": {
        "id": "pktEUy2x0Kgh"
      },
      "execution_count": null,
      "outputs": []
    },
    {
      "cell_type": "markdown",
      "source": [
        "**Conversão de Lista para Dicionario.py [Tipos Estruturados - Fácil]**\n",
        "\n",
        "Implemente uma função que receba uma lista de tuplas, onde cada tupla contém pares chave-valor, e converta essa lista em um dicionário. O objetivo é transformar uma estrutura de lista em um dicionário.\n",
        "\n",
        "Entrada\n",
        "\n",
        "2\n",
        "\n",
        "nome\n",
        "\n",
        "João\n",
        "\n",
        "idade\n",
        "\n",
        "20\n",
        "\n",
        "O programa solicita ao usuário quantos pares de chave-valor ele deseja inserir. Em seguida, o usuário insere cada chave e cada valor, que são adicionados como uma tupla à lista.\n",
        "\n",
        "Saída\n",
        "\n",
        "{'nome': 'João', 'idade': '20'}\n",
        "\n",
        "O programa exibe o dicionário resultante da conversão da lista de tuplas.\n"
      ],
      "metadata": {
        "id": "5RbGtH0A0KoQ"
      }
    },
    {
      "cell_type": "code",
      "source": [],
      "metadata": {
        "id": "6nNo0UsnIJRf"
      },
      "execution_count": null,
      "outputs": []
    }
  ]
}