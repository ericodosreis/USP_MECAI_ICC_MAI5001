{
  "nbformat": 4,
  "nbformat_minor": 0,
  "metadata": {
    "colab": {
      "provenance": [],
      "authorship_tag": "ABX9TyNl7IFSvVw65WHBczOidxdx",
      "include_colab_link": true
    },
    "kernelspec": {
      "name": "python3",
      "display_name": "Python 3"
    },
    "language_info": {
      "name": "python"
    }
  },
  "cells": [
    {
      "cell_type": "markdown",
      "metadata": {
        "id": "view-in-github",
        "colab_type": "text"
      },
      "source": [
        "<a href=\"https://colab.research.google.com/github/ericodosreis/USP_MECAI_ICC_MAI5001/blob/main/Lista_1_%5BConceitos_B%C3%A1sicos%5D.ipynb\" target=\"_parent\"><img src=\"https://colab.research.google.com/assets/colab-badge.svg\" alt=\"Open In Colab\"/></a>"
      ]
    },
    {
      "cell_type": "code",
      "execution_count": null,
      "metadata": {
        "id": "dBq5J1DB-Imn"
      },
      "outputs": [],
      "source": []
    },
    {
      "cell_type": "markdown",
      "source": [
        "Lista 1 - [Conceitos Básicos] Conversão para segundos\n",
        "\n",
        "Disciplina: MAI5001 - Introdução à Ciência de Computação"
      ],
      "metadata": {
        "id": "_SDI-IxShEeq"
      }
    },
    {
      "cell_type": "markdown",
      "source": [
        "**Conversão para segundos**\n",
        "\n",
        "Desenvolva um código em Python que leia uma quantidade de tempo no formato de horas, minutos e segundos (HH:MM) e converta essa quantidade para o total equivalente de segundos.\n",
        "\n",
        "Entrada A entrada será fornecida no seguinte formato: HH:MM:SS, onde:\n",
        "* HH representa as horas (um valor inteiro entre 00 e 23),\n",
        "* MM representa os minutos (um valor inteiro entre 00 e 59),\n",
        "* SS representa os segundos (um valor inteiro entre 00 e 59).\n",
        "\n",
        "\n",
        "Saída A saída será um único número inteiro, representando o total de segundos correspondentes ao valor de tempo fornecido.\n",
        "\n",
        "\n",
        "\n",
        "Exemplo de Entrada 02:30:53\n",
        "\n",
        "Exemplo de Saída 9053\n"
      ],
      "metadata": {
        "id": "6D5fC9Ey_B8V"
      }
    },
    {
      "cell_type": "code",
      "source": [
        "# Input no formato HH:MM:SS\n",
        "tempo = input().strip()\n",
        "\n",
        "# Divide a string nos três valores HH:MM:SS\n",
        "hora, min, seg = map(int, tempo.split(\":\"))\n",
        "\n",
        "# Converte para segundos\n",
        "total = hora * 3600 + min * 60 + seg\n",
        "\n",
        "# Resultado\n",
        "print(total)"
      ],
      "metadata": {
        "colab": {
          "base_uri": "https://localhost:8080/"
        },
        "id": "SUdrwFTBhMrD",
        "outputId": "93d82dc7-336a-4aef-a38d-5ad2b359c43b"
      },
      "execution_count": 1,
      "outputs": [
        {
          "output_type": "stream",
          "name": "stdout",
          "text": [
            "03:45:22\n",
            "13522\n"
          ]
        }
      ]
    },
    {
      "cell_type": "markdown",
      "source": [
        "**Frequência de caracteres**\n",
        "\n",
        "Desenvolva um código em Python que leia uma string e conte a frequência de cada caractere na string. A saída deve ser uma lista dos caracteres e suas contagens, em qualquer ordem.\n",
        "\n",
        "Contagem de Caracteres: O programa deve contar o número de ocorrências de cada caractere individual na string.\n",
        "\n",
        "\n",
        "Entrada\n",
        "\n",
        "A entrada será uma única string: abracadabra\n",
        "\n",
        "\n",
        "Saída\n",
        "\n",
        "A saída será uma lista de bigramas e suas contagens, em qualquer ordem.\n",
        "\n",
        "a: 5\n",
        "\n",
        "b: 2\n",
        "\n",
        "r: 2\n",
        "\n",
        "c: 1\n",
        "\n",
        "d: 1"
      ],
      "metadata": {
        "id": "at7B0bgXklqz"
      }
    },
    {
      "cell_type": "code",
      "source": [
        "# Lê a string de entrada\n",
        "texto = input().strip()\n",
        "\n",
        "# Dicionário para armazenar as frequências\n",
        "frequencia = {}\n",
        "\n",
        "# Conta a ocorrência de cada caractere\n",
        "for char in texto:\n",
        "    if char in frequencia:\n",
        "        frequencia[char] += 1\n",
        "    else:\n",
        "        frequencia[char] = 1\n",
        "\n",
        "# Imprime os resultados (ordem não importa)\n",
        "for char, count in frequencia.items():\n",
        "    print(f\"{char}: {count}\")"
      ],
      "metadata": {
        "colab": {
          "base_uri": "https://localhost:8080/"
        },
        "id": "UDGyDfk5lFWD",
        "outputId": "f3e85838-0752-45d7-81b7-e99fe82b0ac3"
      },
      "execution_count": 2,
      "outputs": [
        {
          "output_type": "stream",
          "name": "stdout",
          "text": [
            "paralelepipedo\n",
            "p: 3\n",
            "a: 2\n",
            "r: 1\n",
            "l: 2\n",
            "e: 3\n",
            "i: 1\n",
            "d: 1\n",
            "o: 1\n"
          ]
        }
      ]
    },
    {
      "cell_type": "markdown",
      "source": [
        "**Multiplicação de Matrizes**\n",
        "\n",
        "Desenvolva um código em Python que leia duas matrizes 2x2 e calcule a matriz resultante da multiplicação dessas duas matrizes. A multiplicação de matrizes envolve a soma dos produtos dos elementos correspondentes das linhas da primeira matriz com as colunas da segunda.\n",
        "\n",
        "Entrada\n",
        "\n",
        "A entrada será fornecida no seguinte formato, representando duas matrizes 2x2:\n",
        "\n",
        "a11 a12  \n",
        "a21 a22  \n",
        "\n",
        "b11 b12  \n",
        "b21 b22\n",
        "\n",
        "\n",
        "Saída\n",
        "\n",
        " A saída será uma matriz 2x2 resultante da multiplicação das duas matrizes. A matriz resultante terá a seguinte forma:\n",
        "\n",
        "c11 c12  \n",
        "c21 c22\n",
        "\n",
        "\n",
        "Exemplo de Entrada\n",
        "\n",
        "1 2  \n",
        "3 4  \n",
        "\n",
        "5 6  \n",
        "7 8\n",
        "\n",
        "\n",
        "Exemplo de Saída\n",
        "\n",
        "19 22  \n",
        "43 50"
      ],
      "metadata": {
        "id": "p8XvsSUYnskm"
      }
    },
    {
      "cell_type": "code",
      "source": [
        "# Leitura da primeira matriz 2x2\n",
        "a11, a12 = map(int, input().split())\n",
        "a21, a22 = map(int, input().split())\n",
        "\n",
        "# Leitura da segunda matriz 2x2\n",
        "b11, b12 = map(int, input().split())\n",
        "b21, b22 = map(int, input().split())\n",
        "\n",
        "# Cálculo da matriz resultante\n",
        "c11 = a11 * b11 + a12 * b21\n",
        "c12 = a11 * b12 + a12 * b22\n",
        "c21 = a21 * b11 + a22 * b21\n",
        "c22 = a21 * b12 + a22 * b22\n",
        "\n",
        "# Impressão da matriz resultante\n",
        "print(f\"{c11} {c12}\")\n",
        "print(f\"{c21} {c22}\")"
      ],
      "metadata": {
        "id": "YhFr3QJFoiyI"
      },
      "execution_count": null,
      "outputs": []
    },
    {
      "cell_type": "markdown",
      "source": [
        "**Contagem de Palavras**\n",
        "\n",
        "Desenvolva um código em Python que leia uma string e conte o número de ocorrências de cada palavra na string.\n",
        "\n",
        "O programa deve desconsiderar maiúsculas e minúsculas, tratando todas as palavras como minúsculas.\n",
        "Desconsidere pontuações, ou seja, apenas palavras compostas por letras devem ser contabilizadas.\n",
        "\n",
        "\n",
        "Entrada\n",
        "\n",
        " A entrada será uma única string com palavras separadas por espaços.\n",
        "\n",
        "Saída\n",
        "\n",
        " A saída será uma lista das palavras e suas contagens, em qualquer ordem\n",
        "\n",
        "Exemplo de Entrada\n",
        "\n",
        "Este é um teste este é apenas um teste\n",
        "\n",
        "\n",
        "Exemplo de Saída\n",
        "\n",
        "este: 2\n",
        "\n",
        "é: 2\n",
        "\n",
        "um: 2\n",
        "\n",
        "teste: 2\n",
        "\n",
        "apenas: 1"
      ],
      "metadata": {
        "id": "2HiTIrDWokNS"
      }
    },
    {
      "cell_type": "code",
      "source": [
        "# Input da string e conversao para minusculas\n",
        "texto = input().strip().lower()\n",
        "\n",
        "# Quebra em palavras\n",
        "palavras = texto.split()\n",
        "\n",
        "# Dicionario de frequencia\n",
        "frequencia = {}\n",
        "\n",
        "for palavra in palavras:\n",
        "    if palavra in frequencia:\n",
        "        frequencia[palavra] += 1\n",
        "    else:\n",
        "        frequencia[palavra] = 1\n",
        "\n",
        "# Imprime os resultados\n",
        "for palavra, count in frequencia.items():\n",
        "    print(f\"{palavra}: {count}\")"
      ],
      "metadata": {
        "colab": {
          "base_uri": "https://localhost:8080/"
        },
        "id": "jLCqovJjozVY",
        "outputId": "d1be7517-a392-4c88-b75d-9a29973b6a6b"
      },
      "execution_count": 3,
      "outputs": [
        {
          "output_type": "stream",
          "name": "stdout",
          "text": [
            "Aprender novas tecnologias é essencial para o desenvolvimento pessoal e profissional\n",
            "aprender: 1\n",
            "novas: 1\n",
            "tecnologias: 1\n",
            "é: 1\n",
            "essencial: 1\n",
            "para: 1\n",
            "o: 1\n",
            "desenvolvimento: 1\n",
            "pessoal: 1\n",
            "e: 1\n",
            "profissional: 1\n"
          ]
        }
      ]
    },
    {
      "cell_type": "markdown",
      "source": [
        "**Cálculo da Média de Três Números**\n",
        "\n",
        "Desenvolva um código em Python que leia três números inteiros e calcule a média desses três números. A saída deverá exibir o valor da média arredondado para uma casa decimal.\n",
        "\n",
        "Entrada\n",
        "\n",
        "A entrada será composta por três números inteiros fornecidos em uma única linha, separados por espaços.\n",
        "Saída\n",
        "\n",
        "A saída será o valor da média arredondado para uma casa decimal.\n",
        "\n",
        "\n",
        "Exemplo de Entrada\n",
        "\n",
        "4 5 6\n",
        "\n",
        "Exemplo de Saída\n",
        "\n",
        "5"
      ],
      "metadata": {
        "id": "ajP_R8-b9G-5"
      }
    },
    {
      "cell_type": "code",
      "source": [
        "# input três números inteiros\n",
        "a, b, c = map(int, input().split())\n",
        "\n",
        "# Calcula a média\n",
        "media = (a + b + c) / 3\n",
        "\n",
        "# Imprime arredondado para 1 casa decimal\n",
        "print(f\"{media:.1f}\")"
      ],
      "metadata": {
        "id": "1yG1UjYQ9if_"
      },
      "execution_count": null,
      "outputs": []
    },
    {
      "cell_type": "markdown",
      "source": [
        "**Frequência de Bigramas em Texto**\n",
        "\n",
        "\n",
        "Desenvolva um código em Python que leia uma string e conte a frequência de bigramas (pares de palavras consecutivas) na string. A saída deve ser uma lista dos bigramas e suas contagens, em qualquer ordem.\n",
        "\n",
        "\n",
        "Entrada\n",
        "\n",
        "A entrada será uma única string\n",
        "\n",
        "Eu amo programar porque programar é divertido\n",
        "\n",
        "Saída\n",
        "\n",
        "A saída será uma lista de bigramas e suas contagens, em qualquer ordem.\n",
        "\n",
        "\n",
        "eu amo: 1\n",
        "\n",
        "amo programar: 1\n",
        "\n",
        "programar porque: 1\n",
        "\n",
        "porque programar: 1\n",
        "\n",
        "programar é: 1\n",
        "\n",
        "é divertido: 1"
      ],
      "metadata": {
        "id": "zdrHjHjg9juM"
      }
    },
    {
      "cell_type": "code",
      "source": [
        "# Quebra em palavras\n",
        "palavras = texto.split()\n",
        "\n",
        "# Dicionário para armazenar bigramas\n",
        "frequencia = {}\n",
        "\n",
        "# Gera bigramas (pares de palavras)\n",
        "for i in range(len(palavras) - 1):\n",
        "    bigrama = palavras[i] + \" \" + palavras[i + 1]\n",
        "    if bigrama in frequencia:\n",
        "        frequencia[bigrama] += 1\n",
        "    else:\n",
        "        frequencia[bigrama] = 1\n",
        "\n",
        "# Imprime os resultados\n",
        "for bigrama, count in frequencia.items():\n",
        "    print(f\"{bigrama}: {count}\")"
      ],
      "metadata": {
        "id": "yjazDJcR9jCw"
      },
      "execution_count": null,
      "outputs": []
    }
  ]
}