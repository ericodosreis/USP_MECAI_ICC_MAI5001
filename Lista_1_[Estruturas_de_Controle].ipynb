{
  "nbformat": 4,
  "nbformat_minor": 0,
  "metadata": {
    "colab": {
      "provenance": [],
      "authorship_tag": "ABX9TyOVmCKmipc1+OfxjAYxlWNW",
      "include_colab_link": true
    },
    "kernelspec": {
      "name": "python3",
      "display_name": "Python 3"
    },
    "language_info": {
      "name": "python"
    }
  },
  "cells": [
    {
      "cell_type": "markdown",
      "metadata": {
        "id": "view-in-github",
        "colab_type": "text"
      },
      "source": [
        "<a href=\"https://colab.research.google.com/github/ericodosreis/USP_MECAI_ICC_MAI5001/blob/main/Lista_1_%5BEstruturas_de_Controle%5D.ipynb\" target=\"_parent\"><img src=\"https://colab.research.google.com/assets/colab-badge.svg\" alt=\"Open In Colab\"/></a>"
      ]
    },
    {
      "cell_type": "markdown",
      "source": [
        "Lista 1 - [Estruturas de Controle]\n",
        "\n",
        "Disciplina: MAI5001 - Introdução à Ciência de Computação"
      ],
      "metadata": {
        "id": "jWtPNX7SCErH"
      }
    },
    {
      "cell_type": "markdown",
      "source": [
        "**Divisíveis por 5 e 7**\n",
        "\n",
        "Escreva um programa em Python que retorna os números divisíveis por 7 e múltiplos de 5 no intervalo [Mín, Máx], onde Min e Máx são fornecidos como entrada.\n",
        "\n",
        "Entrada\n",
        "\n",
        "A entrada apresenta os valores Min e Máx\n",
        "\n",
        "100 200\n",
        "\n",
        "Saída\n",
        "\n",
        "105,140,175\n",
        "\n",
        "\n",
        "Dica: Use ','.join() para formatar a saída"
      ],
      "metadata": {
        "id": "_yfmIO2lCE0y"
      }
    },
    {
      "cell_type": "code",
      "source": [
        "# Lê a entrada e troca vírgula por espaço\n",
        "entrada = input().replace(\",\", \" \")\n",
        "min_val, max_val = map(int, entrada.split())\n",
        "\n",
        "# Lista para armazenar os resultados\n",
        "resultados = []\n",
        "\n",
        "for num in range(min_val, max_val + 1):\n",
        "    if num % 7 == 0 and num % 5 == 0:\n",
        "        resultados.append(str(num))\n",
        "\n",
        "print(\",\".join(resultados))\n"
      ],
      "metadata": {
        "colab": {
          "base_uri": "https://localhost:8080/"
        },
        "id": "pTabNjs8CSsn",
        "outputId": "b0f5cc78-83a5-4793-ea52-37c743c60273"
      },
      "execution_count": 4,
      "outputs": [
        {
          "output_type": "stream",
          "name": "stdout",
          "text": [
            "1173,1247\n",
            "1190,1225\n"
          ]
        }
      ]
    },
    {
      "cell_type": "markdown",
      "source": [
        "**Números primos**\n",
        "\n",
        "Número primo é aquele que é divisível apenas por ele mesmo e pela unidade.\n",
        "\n",
        "Desenvolva um código em python que determine e escreva os números primos compreendidos entre Min e Máx. Se não houver números primos entre Min e Máx, a seguinte mensagem deve ser exibida: \"Não há números primos\"\n",
        "\n",
        "Entrada\n",
        "\n",
        "A entrada apresenta os valores Min e Máx\n",
        "\n",
        "12 73\n",
        "\n",
        "Saída\n",
        "\n",
        "13 17 19 23 29 31 37 41 43 47 53  59  61 67 71 73"
      ],
      "metadata": {
        "id": "bKGy-7qDDnGw"
      }
    },
    {
      "cell_type": "code",
      "source": [
        "# input valores mínimo e máximo\n",
        "min_val, max_val = map(int, input().split())\n",
        "\n",
        "# Lista para armazenar os números primos\n",
        "primos = []\n",
        "\n",
        "# Verifica os números no intervalo\n",
        "for num in range(min_val, max_val + 1):\n",
        "    if num > 1:  # apenas números maiores que 1 podem ser primos\n",
        "        eh_primo = True\n",
        "        for i in range(2, int(num**0.5) + 1):\n",
        "            if num % i == 0:\n",
        "                eh_primo = False\n",
        "                break\n",
        "        if eh_primo:\n",
        "            primos.append(str(num))\n",
        "\n",
        "# Exibe o resultado\n",
        "if primos:\n",
        "    print(\" \".join(primos))\n",
        "else:\n",
        "    print(\"Não há números primos\")\n"
      ],
      "metadata": {
        "id": "bhLCcVgIDxsp"
      },
      "execution_count": null,
      "outputs": []
    },
    {
      "cell_type": "markdown",
      "source": [
        "**Números perfeitos**\n",
        "\n",
        "Número perfeito é aquele cuja soma dos seus divisores, exceto ele próprio, é igual ao número. Exemplo: 6 = 1 + 2 + 3.\n",
        "\n",
        "\n",
        "Desenvolva um código em python que exiba os números perfeitos encontrados entre os valores Min e Max fornecidos.\n",
        "\n",
        "Se não houver um número perfeito entre Min e Máx, a seguinte mensagem deve ser exibida: \"Não foi encontrado número perfeito\".\n",
        "\n",
        "\n",
        "\n",
        "\n",
        "Entrada\n",
        "\n",
        "A entrada será fornecida no seguinte formato\n",
        "\n",
        "\n",
        "1 10\n",
        "\n",
        "\n",
        "Saída\n",
        "\n",
        "6\n",
        "\n"
      ],
      "metadata": {
        "id": "psGMa6CXEV8m"
      }
    },
    {
      "cell_type": "code",
      "source": [
        "# input valores mínimo e máximo\n",
        "min_val, max_val = map(int, input().split())\n",
        "\n",
        "# Lista para armazenar os números perfeitos\n",
        "perfeitos = []\n",
        "\n",
        "# Verifica cada número no intervalo\n",
        "for num in range(min_val, max_val + 1):\n",
        "    soma_divisores = 0\n",
        "    for i in range(1, num):  # divisores menores que o número\n",
        "        if num % i == 0:\n",
        "            soma_divisores += i\n",
        "    if soma_divisores == num:\n",
        "        perfeitos.append(str(num))\n",
        "\n",
        "# Resultado\n",
        "if perfeitos:\n",
        "    print(\"\\n\".join(perfeitos))\n",
        "else:\n",
        "    print(\"Não foi encontrado número perfeito\")\n",
        ""
      ],
      "metadata": {
        "colab": {
          "base_uri": "https://localhost:8080/"
        },
        "id": "fcRyKyPqEoj0",
        "outputId": "55f4d6d2-dff1-41b0-bfee-3874882d3210"
      },
      "execution_count": 5,
      "outputs": [
        {
          "output_type": "stream",
          "name": "stdout",
          "text": [
            "10 30\n",
            "28\n"
          ]
        }
      ]
    }
  ]
}