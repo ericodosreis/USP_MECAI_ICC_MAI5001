{
  "cells": [
    {
      "cell_type": "markdown",
      "metadata": {
        "id": "view-in-github",
        "colab_type": "text"
      },
      "source": [
        "<a href=\"https://colab.research.google.com/github/ericodosreis/USP_MECAI_ICC_MAI5001/blob/main/T%C3%B3pico_2_Estruturas_de_Controle.ipynb\" target=\"_parent\"><img src=\"https://colab.research.google.com/assets/colab-badge.svg\" alt=\"Open In Colab\"/></a>"
      ]
    },
    {
      "cell_type": "markdown",
      "metadata": {
        "id": "bqcua9x9u6WY"
      },
      "source": [
        "#Estrutura Condicional\n",
        "\n",
        "---\n",
        "\n",
        "\n"
      ]
    },
    {
      "cell_type": "code",
      "execution_count": null,
      "metadata": {
        "id": "_Mzc9i8ciVp7",
        "outputId": "da46a562-bd41-4955-9e72-5c82f2b8c74c",
        "colab": {
          "base_uri": "https://localhost:8080/"
        }
      },
      "outputs": [
        {
          "output_type": "stream",
          "name": "stdout",
          "text": [
            "Entre com valores inteiros para x e y\n",
            "x=20\n",
            "y=30\n",
            "20<30\n"
          ]
        }
      ],
      "source": [
        "print('Entre com valores inteiros para x e y')\n",
        "x=int(input(\"x=\"))\n",
        "y=int(input(\"y=\"))\n",
        "if(x<y):\n",
        "  print(f'{x}<{y}')\n",
        "elif(x==y):\n",
        "  print(f'{x}=={y}')\n",
        "else:\n",
        "  print(f'{x}>{y}')"
      ]
    },
    {
      "cell_type": "code",
      "execution_count": null,
      "metadata": {
        "id": "mn-phTtpWkST",
        "colab": {
          "base_uri": "https://localhost:8080/"
        },
        "outputId": "2618df02-8b83-4a98-9813-32b565e41b0d"
      },
      "outputs": [
        {
          "output_type": "stream",
          "name": "stdout",
          "text": [
            "x=5\n",
            "y=2\n",
            "5 > 2 e 5 - 2 = 3\n",
            "5 mod 2 = 1\n"
          ]
        }
      ],
      "source": [
        "x=int(input(\"x=\"))\n",
        "y=int(input(\"y=\"))\n",
        "if(x<y):\n",
        "        if(y!=0):\n",
        "           print(x,\"/\",y, \"=\", x/y)\n",
        "        elif(x!=0):\n",
        "           print(x**y)\n",
        "        print(x,\"<\",y,\"e\", x, \"+\",y,\"=\",x+y)\n",
        "elif(x==y):\n",
        "        print(x,\"==\",y)\n",
        "else:\n",
        "        print(x,\">\",y,\"e\", x, \"-\",y,\"=\", x-y)\n",
        "        if(y!=0):\n",
        "           print(x,\"mod\",y, \"=\", x%y)"
      ]
    },
    {
      "cell_type": "code",
      "execution_count": null,
      "metadata": {
        "id": "TrraiyzzWgDu",
        "colab": {
          "base_uri": "https://localhost:8080/"
        },
        "outputId": "230fe4f4-74f1-4526-92ef-311136fdcaf7"
      },
      "outputs": [
        {
          "output_type": "stream",
          "name": "stdout",
          "text": [
            "Digite três frutas da sua lista de compras:1 banana 2\n",
            "['1', 'banana', '2']\n",
            "Você vai comprar banana\n"
          ]
        }
      ],
      "source": [
        "st=input(\"Digite três frutas da sua lista de compras:\").split()\n",
        "print(st)\n",
        "if 'banana'in st:\n",
        "  print('Você vai comprar banana')\n",
        "else:\n",
        "  print('Você não vai comprar banana')\n"
      ]
    },
    {
      "cell_type": "code",
      "execution_count": null,
      "metadata": {
        "id": "R6OkIUz4ii83",
        "colab": {
          "base_uri": "https://localhost:8080/"
        },
        "outputId": "8206242a-8a12-451d-8ba5-e422274185cb"
      },
      "outputs": [
        {
          "output_type": "stream",
          "name": "stdout",
          "text": [
            "1 1 1\n",
            "equilatero\n"
          ]
        }
      ],
      "source": [
        "x,y,z=map(float,input().split())\n",
        "if (x+y>z and x+z>y and y+z>x):\n",
        "  if (x==y and y==z):\n",
        "    print('equilatero')\n",
        "  elif (x==y or x==z or y==z):\n",
        "    print('isosceles')\n",
        "  else:\n",
        "    print('escaleno')\n",
        "else:\n",
        "  print('Não são medidas de um triângulo')"
      ]
    },
    {
      "cell_type": "markdown",
      "source": [
        "## Operador ternário"
      ],
      "metadata": {
        "id": "JRQ2IwYMPugg"
      }
    },
    {
      "cell_type": "code",
      "source": [
        "nota = 10\n",
        "if (nota > 5.0):\n",
        "  print('Aprovado')\n",
        "else:\n",
        "  print('Reprovado')\n"
      ],
      "metadata": {
        "colab": {
          "base_uri": "https://localhost:8080/"
        },
        "id": "gcmp5Q_bPxW6",
        "outputId": "6cac632b-f8c4-4ac8-9a79-c0bf4f927668"
      },
      "execution_count": null,
      "outputs": [
        {
          "output_type": "stream",
          "name": "stdout",
          "text": [
            "Aprovado\n"
          ]
        }
      ]
    },
    {
      "cell_type": "code",
      "source": [
        "nota = 10\n",
        "print('Aprovado') if (nota > 5.0) else print('Reprovado')\n",
        "nota = 3\n",
        "msg = 'Aprovado' if (nota > 5.0) else 'Reprovado'\n",
        "print(msg)"
      ],
      "metadata": {
        "colab": {
          "base_uri": "https://localhost:8080/"
        },
        "id": "FLrnSvp6QM7E",
        "outputId": "93cfccb5-9a8b-40b7-ac09-6f0fbb872d66"
      },
      "execution_count": null,
      "outputs": [
        {
          "output_type": "stream",
          "name": "stdout",
          "text": [
            "Aprovado\n",
            "Reprovado\n"
          ]
        }
      ]
    },
    {
      "cell_type": "markdown",
      "source": [
        "## Uso do pass"
      ],
      "metadata": {
        "id": "SDFUsFZQPred"
      }
    },
    {
      "cell_type": "code",
      "source": [
        "#Uso do pass\n",
        "for number in range(1, 100):\n",
        "    if number % 13 != 0:\n",
        "        # Não é múltiplo de 13\n",
        "      pass\n",
        "    else:\n",
        "        print(f'{number} é um múltiplo de 13')"
      ],
      "metadata": {
        "colab": {
          "base_uri": "https://localhost:8080/"
        },
        "id": "oSpVf15zMumj",
        "outputId": "2e49224c-527a-4648-ffcc-9fec805e2464"
      },
      "execution_count": null,
      "outputs": [
        {
          "output_type": "stream",
          "name": "stdout",
          "text": [
            "13 é um múltiplo de 13\n",
            "26 é um múltiplo de 13\n",
            "39 é um múltiplo de 13\n",
            "52 é um múltiplo de 13\n",
            "65 é um múltiplo de 13\n",
            "78 é um múltiplo de 13\n",
            "91 é um múltiplo de 13\n"
          ]
        }
      ]
    },
    {
      "cell_type": "markdown",
      "metadata": {
        "id": "V_RblkvAUf2R"
      },
      "source": [
        "#Estrutura de Repetição Contada"
      ]
    },
    {
      "cell_type": "code",
      "execution_count": null,
      "metadata": {
        "id": "TV1JwH13iqEB",
        "colab": {
          "base_uri": "https://localhost:8080/"
        },
        "outputId": "e236bb41-d31e-4318-ea2b-2516e82472c2"
      },
      "outputs": [
        {
          "output_type": "stream",
          "name": "stdout",
          "text": [
            "\n",
            "Exemplo 1:\n",
            "1\n",
            "2\n",
            "3\n",
            "4\n",
            "5\n",
            "6\n",
            "7\n",
            "8\n",
            "9\n"
          ]
        }
      ],
      "source": [
        "\n",
        "#Exibindo iterações direta e reversa...e uso de end no print\n",
        "print('\\nExemplo 1:')\n",
        "for i in range(1,10):\n",
        "    print(i)\n"
      ]
    },
    {
      "cell_type": "code",
      "source": [
        "print('\\nExemplo 2:', end='')\n",
        "for i in range(1,10):\n",
        "    print(\"\",i,end='')\n"
      ],
      "metadata": {
        "colab": {
          "base_uri": "https://localhost:8080/"
        },
        "id": "64YuXCfZtEJI",
        "outputId": "9c5d1196-a73c-49af-9fee-4faf6e79bd93"
      },
      "execution_count": null,
      "outputs": [
        {
          "output_type": "stream",
          "name": "stdout",
          "text": [
            "\n",
            "Exemplo 2: 1 2 3 4 5 6 7 8 9"
          ]
        }
      ]
    },
    {
      "cell_type": "code",
      "source": [
        "print('\\nExemplo 3:', end='')\n",
        "for i in range(10,1,-1):\n",
        "     print(\"\",i,end='')\n"
      ],
      "metadata": {
        "colab": {
          "base_uri": "https://localhost:8080/"
        },
        "id": "x_ResWMNtSPg",
        "outputId": "3fe0e0d1-ab9f-4954-a39d-dbdd0f0ef954"
      },
      "execution_count": null,
      "outputs": [
        {
          "output_type": "stream",
          "name": "stdout",
          "text": [
            "\n",
            "Exemplo 3: 10 9 8 7 6 5 4 3 2"
          ]
        }
      ]
    },
    {
      "cell_type": "code",
      "source": [
        "print('\\nExemplo 4 - reversed() function:', end='')\n",
        "for i in reversed(range(10)):\n",
        "    print(\"\",i,end='')\n"
      ],
      "metadata": {
        "colab": {
          "base_uri": "https://localhost:8080/"
        },
        "id": "ouQn1IDctbVg",
        "outputId": "3f3c6c1c-3d13-4436-fddb-dbf27db9438d"
      },
      "execution_count": null,
      "outputs": [
        {
          "output_type": "stream",
          "name": "stdout",
          "text": [
            "\n",
            "Exemplo 4 - reversed() function: 9 8 7 6 5 4 3 2 1 0"
          ]
        }
      ]
    },
    {
      "cell_type": "code",
      "execution_count": null,
      "metadata": {
        "id": "yUVYKLbOCMVj",
        "colab": {
          "base_uri": "https://localhost:8080/"
        },
        "outputId": "cbc14d78-4582-481b-be8a-bae61bcd88c9"
      },
      "outputs": [
        {
          "output_type": "stream",
          "name": "stdout",
          "text": [
            "\n",
            "Exemplo 1:\n",
            " 1 2 3 4 5 6 7 8 9\n",
            " 9 8 7 6 5 4 3 2 1"
          ]
        }
      ],
      "source": [
        "\n",
        "print('\\nExemplo 1:')\n",
        "i=1\n",
        "while (i<10):\n",
        "  print(f' {i}',end='')\n",
        "  i=i+1\n",
        "\n",
        "print()\n",
        "\n",
        "i=9\n",
        "while (i>0):\n",
        "  print(f' {i}',end='')\n",
        "  i=i-1\n",
        "\n"
      ]
    },
    {
      "cell_type": "code",
      "execution_count": null,
      "metadata": {
        "id": "8YgkZ7xci1GI",
        "colab": {
          "base_uri": "https://localhost:8080/"
        },
        "outputId": "a64e9420-e6f1-4ed8-e477-73e0084204a3"
      },
      "outputs": [
        {
          "output_type": "stream",
          "name": "stdout",
          "text": [
            "\n",
            "Exemplo 1: 1 3 5 7 9\n",
            "Exemplo 2: 10 8 6 4 2\n",
            "Exemplo 3: -10 -5 0 5 10"
          ]
        }
      ],
      "source": [
        "##Exibindo iterações com saltos\n",
        "print('\\nExemplo 1:',end='')\n",
        "for i in range(1,10,2):\n",
        "    print(\"\",i,end='')\n",
        "print('\\nExemplo 2:',end='')\n",
        "for i in range(10,1,-2):\n",
        "    print(\"\",i,end='')\n",
        "print('\\nExemplo 3:',end='')\n",
        "for i in range(-10,11,5):\n",
        "    print(\"\",i,end='')"
      ]
    },
    {
      "cell_type": "code",
      "execution_count": null,
      "metadata": {
        "colab": {
          "base_uri": "https://localhost:8080/"
        },
        "id": "Sru-VnhMDd9e",
        "outputId": "c79d664e-2c8d-485b-ddb0-724f07e2c263"
      },
      "outputs": [
        {
          "output_type": "stream",
          "name": "stdout",
          "text": [
            " 1 3 5 7 9\n",
            " 10 8 6 4 2\n",
            " -10 -5 0 5 10"
          ]
        }
      ],
      "source": [
        "##Exibindo iterações com saltos\n",
        "i=1\n",
        "while (i<10):\n",
        "  print(f' {i}',end='')\n",
        "  i+=2\n",
        "\n",
        "print()\n",
        "\n",
        "i=10\n",
        "while (i>1):\n",
        "  print(f' {i}',end='')\n",
        "  i-=2\n",
        "\n",
        "print()\n",
        "\n",
        "i=-10\n",
        "while(i<11):\n",
        "  print(f' {i}',end='')\n",
        "  i+=5\n"
      ]
    },
    {
      "cell_type": "code",
      "execution_count": null,
      "metadata": {
        "id": "_zvdbqX5Ej33",
        "colab": {
          "base_uri": "https://localhost:8080/",
          "height": 220
        },
        "outputId": "042e7e6f-c86c-4802-c7ac-9657fa1853f9"
      },
      "outputs": [
        {
          "output_type": "error",
          "ename": "TypeError",
          "evalue": "'float' object cannot be interpreted as an integer",
          "traceback": [
            "\u001b[0;31m---------------------------------------------------------------------------\u001b[0m",
            "\u001b[0;31mTypeError\u001b[0m                                 Traceback (most recent call last)",
            "\u001b[0;32m/tmp/ipython-input-1765269526.py\u001b[0m in \u001b[0;36m<cell line: 0>\u001b[0;34m()\u001b[0m\n\u001b[1;32m      1\u001b[0m \u001b[0;31m##Iterando com não inteiros\u001b[0m\u001b[0;34m\u001b[0m\u001b[0;34m\u001b[0m\u001b[0m\n\u001b[1;32m      2\u001b[0m \u001b[0;31m##Exemplo 8 - Range não aceita parâmetros float\u001b[0m\u001b[0;34m\u001b[0m\u001b[0;34m\u001b[0m\u001b[0m\n\u001b[0;32m----> 3\u001b[0;31m \u001b[0;32mfor\u001b[0m \u001b[0mi\u001b[0m \u001b[0;32min\u001b[0m \u001b[0mrange\u001b[0m\u001b[0;34m(\u001b[0m\u001b[0;36m0\u001b[0m\u001b[0;34m,\u001b[0m\u001b[0;36m1\u001b[0m\u001b[0;34m,\u001b[0m\u001b[0;36m0.1\u001b[0m\u001b[0;34m)\u001b[0m\u001b[0;34m:\u001b[0m\u001b[0;34m\u001b[0m\u001b[0;34m\u001b[0m\u001b[0m\n\u001b[0m\u001b[1;32m      4\u001b[0m     \u001b[0mprint\u001b[0m\u001b[0;34m(\u001b[0m\u001b[0;34m\"\"\u001b[0m\u001b[0;34m,\u001b[0m\u001b[0mi\u001b[0m\u001b[0;34m,\u001b[0m\u001b[0mend\u001b[0m\u001b[0;34m=\u001b[0m\u001b[0;34m''\u001b[0m\u001b[0;34m)\u001b[0m\u001b[0;34m\u001b[0m\u001b[0;34m\u001b[0m\u001b[0m\n\u001b[1;32m      5\u001b[0m \u001b[0mprint\u001b[0m\u001b[0;34m(\u001b[0m\u001b[0;34m'\\n******\\n'\u001b[0m\u001b[0;34m)\u001b[0m\u001b[0;34m\u001b[0m\u001b[0;34m\u001b[0m\u001b[0m\n",
            "\u001b[0;31mTypeError\u001b[0m: 'float' object cannot be interpreted as an integer"
          ]
        }
      ],
      "source": [
        "##Iterando com não inteiros\n",
        "##Exemplo 8 - Range não aceita parâmetros float\n",
        "for i in range(0,1,0.1):\n",
        "    print(\"\",i,end='')\n",
        "print('\\n******\\n')\n"
      ]
    },
    {
      "cell_type": "code",
      "execution_count": null,
      "metadata": {
        "id": "AfF-avPb4zPo",
        "colab": {
          "base_uri": "https://localhost:8080/"
        },
        "outputId": "43624316-a6fb-4450-ffa8-1b23f9e8ecad"
      },
      "outputs": [
        {
          "output_type": "stream",
          "name": "stdout",
          "text": [
            "[0,1]:0.0, 0.1, 0.2, 0.3, 0.4, 0.5, 0.6, 0.7, 0.8, 0.9, \n",
            "\n",
            "[5.5,15.5]:5.50 7.00 8.50 10.00 11.50 13.00 14.50 \n",
            "\n",
            "[15.5,1.5]:14.50 13.00 11.50 10.00 8.50 7.00 5.50 "
          ]
        }
      ],
      "source": [
        "import numpy as np\n",
        "print(f'[0,1]:',end='')\n",
        "for i in np.arange(0, 1, 0.1):\n",
        "    print(f'{i:.1f}', end=', ')\n",
        "print(f'\\n\\n[5.5,15.5]:',end='')\n",
        "for i in np.arange(5.5, 15.5, 1.5):\n",
        "    print(f'{i:.2f}', end=' ')\n",
        "print(f'\\n\\n[15.5,1.5]:',end='')\n",
        "for i in reversed(np.arange(5.5, 15.5, 1.5)):\n",
        "    print(f'{i:.2f}', end=' ')\n"
      ]
    },
    {
      "cell_type": "code",
      "execution_count": null,
      "metadata": {
        "id": "92BwSZqPHunF",
        "colab": {
          "base_uri": "https://localhost:8080/"
        },
        "outputId": "b5b5c496-2568-4a5f-e8c4-17be77190fa7"
      },
      "outputs": [
        {
          "output_type": "stream",
          "name": "stdout",
          "text": [
            "\n",
            "np.arange() com valores negativos:\n",
            "-1.00 -0.90 -0.80 -0.70 -0.60 -0.50 -0.40 -0.30 -0.20 -0.10 -0.00 0.10 0.20 0.30 0.40 0.50 0.60 0.70 0.80 0.90 \n",
            "np.arange() só valores negativos:\n",
            "-5.00 -5.50 -6.00 -6.50 -7.00 -7.50 -8.00 -8.50 -9.00 -9.50 "
          ]
        }
      ],
      "source": [
        "\n",
        "import numpy as np\n",
        "print('\\nnp.arange() com valores negativos:')\n",
        "for i in np.arange(-1.0, 1.0, 0.1):\n",
        "    print(\"%.2f\" % i, end=' ')\n",
        "\n",
        "print('\\nnp.arange() só valores negativos:')\n",
        "for i in np.arange(-5.0, -10.0, -0.5):\n",
        "    print(\"%.2f\" % i, end=' ')\n"
      ]
    },
    {
      "cell_type": "markdown",
      "source": [
        "**numpy.linspace()** é usada para criar sequências numéricas igualmente espaçadas dentro de um intervalo especificado. Ela é muito útil para geração de eixos de gráfico, discretização de domínios contínuos, simulações numéricas, entre outros.\n",
        "\n",
        "    numpy.linspace(start, stop, num=50, *, endpoint=True, retstep=False, dtype=None, axis=0)\n",
        "\n",
        "| Parâmetro  | Tipo / padrão | O que faz                                                           |\n",
        "| ---------- | ------------- | ------------------------------------------------------------------- |\n",
        "| `start`    | escalar       | Valor inicial da sequência.                                         |\n",
        "| `stop`     | escalar       | Valor final da sequência.                                           |\n",
        "| `num`      | int, *50*     | Número de pontos gerados.                                           |\n",
        "| `endpoint` | bool, *True*  | Inclui (`True`) ou não (`False`) o valor `stop`.                    |\n",
        "| `retstep`  | bool, *False* | Se `True`, retorna também o espaçamento entre pontos.               |\n",
        "| `dtype`    | tipo NumPy    | Tipo dos elementos (por padrão, inferido).                          |\n",
        "| `axis`     | int, *0*      | Eixo ao longo do qual a sequência é colocada (útil em arrays >1 D). |\n"
      ],
      "metadata": {
        "id": "-S6pntG5ul2G"
      }
    },
    {
      "cell_type": "code",
      "execution_count": null,
      "metadata": {
        "id": "ByyQX4JC7XAl",
        "colab": {
          "base_uri": "https://localhost:8080/"
        },
        "outputId": "f2e82c73-6634-4898-c58e-275d34b45e1e"
      },
      "outputs": [
        {
          "output_type": "stream",
          "name": "stdout",
          "text": [
            "[1.5,11.5] com 5: 1.50, 4.00, 6.50, 9.00, 11.50, \n",
            "[1.5,11.5] com 7: 1.50, 3.17, 4.83, 6.50, 8.17, 9.83, 11.50, \n",
            "[1.5,11.5] com 5 sem incluir último valor: 1.50, 3.50, 5.50, 7.50, 9.50, \n",
            "[1.5,11.5] com 7 sem incluir último valor: 1.50, 2.93, 4.36, 5.79, 7.21, 8.64, 10.07, \n"
          ]
        }
      ],
      "source": [
        "print(f'[1.5,11.5] com 5:',end=\" \")\n",
        "for i in np.linspace(1.5, 11.5, num=5):\n",
        "    print(f'{i:.2f}', end=', ')\n",
        "print('')\n",
        "\n",
        "print(f'[1.5,11.5] com 7:',end=\" \")\n",
        "for i in np.linspace(1.5, 11.5, num=7):\n",
        "    print(f'{i:.2f}', end=', ')\n",
        "print('')\n",
        "\n",
        "\n",
        "print(f'[1.5,11.5] com 5 sem incluir último valor:',end=\" \")\n",
        "for i in np.linspace(1.5, 11.5, num=5, endpoint=False):\n",
        "    print(f'{i:.2f}', end=', ')\n",
        "print('')\n",
        "\n",
        "print(f'[1.5,11.5] com 7 sem incluir último valor:',end=\" \")\n",
        "for i in np.linspace(1.5, 11.5, num=7, endpoint=False):\n",
        "    print(f'{i:.2f}', end=', ')\n",
        "print('')\n"
      ]
    },
    {
      "cell_type": "code",
      "execution_count": null,
      "metadata": {
        "colab": {
          "base_uri": "https://localhost:8080/"
        },
        "id": "iAquk9EeEruz",
        "outputId": "961f095e-da02-410c-ac71-2b622ddf8b66"
      },
      "outputs": [
        {
          "output_type": "stream",
          "name": "stdout",
          "text": [
            " 0.00 0.10 0.20 0.30 0.40 0.50 0.60 0.70 0.80 0.90 1.00"
          ]
        }
      ],
      "source": [
        "i=0\n",
        "while i<1:\n",
        "  print(f' {i:.2f}',end='')\n",
        "  i+=0.1"
      ]
    },
    {
      "cell_type": "code",
      "execution_count": null,
      "metadata": {
        "id": "-pSqjVqG4yM_"
      },
      "outputs": [],
      "source": [
        "#Não funciona\n",
        "for i in range('a','z'):\n",
        "    print(\"\",i,end='')\n"
      ]
    },
    {
      "cell_type": "code",
      "execution_count": null,
      "metadata": {
        "colab": {
          "base_uri": "https://localhost:8080/"
        },
        "id": "m6wgeRB292aY",
        "outputId": "6c5055e7-ae32-41d2-d70b-a8cfc1b1f008"
      },
      "outputs": [
        {
          "output_type": "stream",
          "name": "stdout",
          "text": [
            " a b c d e f g h i j k l m n o p q r s t u v w x y\n",
            " a b c d e f g h i j k l m n o p q r s t u v w x y"
          ]
        }
      ],
      "source": [
        "#Fazendo funcionar\n",
        "for i in range(ord('a'),ord('z')):\n",
        "  print(\"\",chr(i),end='')\n",
        "\n",
        "print()\n",
        "\n",
        "i=ord('a')\n",
        "while(i<ord('z')):\n",
        "  print(\"\",chr(i),end='')\n",
        "  i += 1\n",
        "\n"
      ]
    },
    {
      "cell_type": "markdown",
      "metadata": {
        "id": "v8GenNBFMgFz"
      },
      "source": [
        "#Exemplos fazendo cálculos"
      ]
    },
    {
      "cell_type": "code",
      "execution_count": null,
      "metadata": {
        "id": "sKUf1M8MzjLv",
        "colab": {
          "base_uri": "https://localhost:8080/"
        },
        "outputId": "b15e6546-9009-4a0e-8c93-c67f89776f58"
      },
      "outputs": [
        {
          "name": "stdout",
          "output_type": "stream",
          "text": [
            "\n",
            "Exemplo 1 - Média aritmética\n",
            "\n",
            "qtd valores=4\n",
            "valor=10\n",
            "10.0 10.0\n",
            "valor=7.5\n",
            "17.5 7.5\n",
            "valor=8.3\n",
            "25.8 8.3\n",
            "valor=9.2\n",
            "35.0 9.2\n",
            "média= 8.75\n",
            "Continue\n",
            "\n",
            "Exemplo 2 - Fatorial\n",
            "\n",
            "n=5\n",
            "n!= 120\n",
            "Continue\n",
            "\n",
            "Exemplo 3 - Fatorial com reversed()\n",
            "\n",
            "n=5\n",
            "4\n",
            "3\n",
            "2\n",
            "1\n",
            "0\n",
            "n!= 120\n",
            "Continue\n"
          ]
        }
      ],
      "source": [
        "print('\\nExemplo 1 - Média aritmética\\n')\n",
        "n = int(input(\"qtd valores=\"))\n",
        "soma=0;\n",
        "for i in range(n):\n",
        "     valor = float(input(\"valor=\"))\n",
        "     soma += valor;\n",
        "     print(soma,valor)\n",
        "print(\"média=\",soma/n)\n",
        "ok=input(\"Continue\")\n",
        "\n",
        "print('\\nExemplo 2 - Fatorial\\n')\n",
        "n = int(input(\"n=\"))\n",
        "fat=1;\n",
        "for i in range(1,n):\n",
        "     fat = fat*(i+1)5\n",
        "print(\"n!=\",fat)\n",
        "ok=input(\"Continue\")\n",
        "\n",
        "print('\\nExemplo 3 - Fatorial com reversed()\\n')\n",
        "n = int(input(\"n=\"))\n",
        "fat=1;\n",
        "for i in reversed(range(n)):\n",
        "     print(i)\n",
        "     fat = fat*(i+1)\n",
        "print(\"n!=\",fat)\n",
        "ok=input(\"Continue\")\n"
      ]
    },
    {
      "cell_type": "markdown",
      "metadata": {
        "id": "ApOF2xJpaXKs"
      },
      "source": [
        "#for com reversed() e formatado em uma única linha"
      ]
    },
    {
      "cell_type": "code",
      "execution_count": null,
      "metadata": {
        "id": "sgH3K4BPaWy5",
        "colab": {
          "base_uri": "https://localhost:8080/"
        },
        "outputId": "70aad2d3-e96d-44c4-d91b-36cef5cba004"
      },
      "outputs": [
        {
          "output_type": "stream",
          "name": "stdout",
          "text": [
            "ordem direta:joao 20 1.8 82.5 \n",
            "ordem inversa:82.5 1.8 20 joao \n",
            "ordem inversa:82.5 1.8 20 joao "
          ]
        }
      ],
      "source": [
        "\n",
        "lista=['joao',20,1.80,82.5]\n",
        "print('ordem direta:', end='')\n",
        "for i in lista:\n",
        "  print(f'{i}',end=' ')\n",
        "print()\n",
        "\n",
        "print('ordem inversa:', end='')\n",
        "for i in reversed(lista):\n",
        "  print(i,end=' ')\n",
        "\n",
        "print('\\nordem inversa:', end='')\n",
        "for i in lista[::-1]:\n",
        "  print(i,end=' ')\n",
        "\n"
      ]
    },
    {
      "cell_type": "code",
      "execution_count": null,
      "metadata": {
        "id": "Z61ryvQMF92W",
        "colab": {
          "base_uri": "https://localhost:8080/"
        },
        "outputId": "47540949-7d2b-4b3e-d58d-b8f8a223bf20"
      },
      "outputs": [
        {
          "output_type": "stream",
          "name": "stdout",
          "text": [
            "for numa única linha\n",
            "Lista de valores=1 2 3 4 5 6 7 8 9 10 11 12 13 14 15\n",
            "listaPar=[2, 4, 6, 8, 10, 12, 14]\n",
            "<map object at 0x7bdfc9a3e770>\n"
          ]
        }
      ],
      "source": [
        "print('for numa única linha')\n",
        "lista=map(int,input('Lista de valores=').split())\n",
        "listaPar= [i for i in lista if i%2 == 0]\n",
        "print(f'{listaPar=}')\n"
      ]
    },
    {
      "cell_type": "markdown",
      "metadata": {
        "id": "daivtLmlPZIf"
      },
      "source": [
        "#for vs while e aninhamento"
      ]
    },
    {
      "cell_type": "code",
      "execution_count": null,
      "metadata": {
        "id": "8xGR1iRkPd1O",
        "colab": {
          "base_uri": "https://localhost:8080/"
        },
        "outputId": "e2a1895a-0dae-483a-80e3-d5148487f624"
      },
      "outputs": [
        {
          "output_type": "stream",
          "name": "stdout",
          "text": [
            "Exemplo: Potências de i\n",
            "Lista de valores=2 5 12\n",
            "[2, 5, 12]\n",
            "Potências de 2\n",
            "[1, 2, 4, 8, 16, 32, 64, 128, 256, 512, 1024]\n",
            "Potências de 5\n",
            "[1, 5, 25, 125, 625, 3125, 15625, 78125, 390625, 1953125, 9765625]\n",
            "Potências de 12\n",
            "[1, 12, 144, 1728, 20736, 248832, 2985984, 35831808, 429981696, 5159780352, 61917364224]\n"
          ]
        }
      ],
      "source": [
        "print('Exemplo: Potências de i')\n",
        "lista=list(map(int,input('Lista de valores=').split()))\n",
        "print(lista)\n",
        "for i in lista:\n",
        "    print('Potências de', i)\n",
        "    j = 0\n",
        "    tempList=[]\n",
        "    while(j < 11):\n",
        "        tempList.append(i**j)\n",
        "        j+=1\n",
        "    print(tempList)"
      ]
    },
    {
      "cell_type": "markdown",
      "metadata": {
        "id": "CXWe_2RgpFQZ"
      },
      "source": [
        "#Manipulando string com for e while"
      ]
    },
    {
      "cell_type": "code",
      "execution_count": null,
      "metadata": {
        "id": "cGNsWkAPpJyd",
        "colab": {
          "base_uri": "https://localhost:8080/"
        },
        "outputId": "0efd5d49-80ed-4902-e65c-a22d7a06e37e"
      },
      "outputs": [
        {
          "output_type": "stream",
          "name": "stdout",
          "text": [
            "Exemplo 1: for e string\n",
            "f\n",
            "o\n",
            "r\n",
            "Continue\n",
            "Exemplo 2: for e string\n",
            "frase:Os alunos foram aprovados\n",
            "['Os', 'alunos', 'foram', 'aprovados']\n",
            "Os\n",
            "alunos\n",
            "foram\n",
            "aprovados\n",
            "Continue\n",
            "Exemplo 3: for e string\n",
            "frase:Os alunos foram aprovados\n",
            "Os\n",
            "alunos\n",
            "foram\n",
            "aprovados\n",
            "Continue\n",
            "Exemplo 4: while e string\n",
            "while\n",
            "w\n",
            "h\n",
            "i\n",
            "l\n",
            "e\n",
            "Continue\n",
            "Exemplo 5: while e string\n",
            "frase:Os alunos foram aprovados\n",
            "['Os', 'alunos', 'foram', 'aprovados']\n",
            "Os\n",
            "alunos\n",
            "foram\n",
            "aprovados\n"
          ]
        }
      ],
      "source": [
        "\n",
        "print('Exemplo 1: for e string')\n",
        "s = \"for\"\n",
        "for i in s:\n",
        "  print(i)\n",
        "\n",
        "ok=input(\"Continue\")\n",
        "\n",
        "print('Exemplo 2: for e string')\n",
        "s = input('frase:').split()\n",
        "print(s)\n",
        "for i in s:\n",
        "  print(i)\n",
        "\n",
        "ok=input(\"Continue\")\n",
        "\n",
        "print('Exemplo 3: for e string')\n",
        "for i in input('frase:').split():\n",
        "  print(i)\n",
        "\n",
        "ok=input(\"Continue\")\n",
        "\n",
        "\n",
        "print('Exemplo 4: while e string')\n",
        "s = \"while\"\n",
        "print(s)\n",
        "i = 0\n",
        "tam = len(s) - 1\n",
        "while i <= tam:\n",
        "    print(s[i])\n",
        "    i = i + 1\n",
        "\n",
        "ok=input(\"Continue\")\n",
        "\n",
        "print('Exemplo 5: while e string')\n",
        "s = input('frase:').split()\n",
        "print(s)\n",
        "i = 0\n",
        "tam = len(s) - 1\n",
        "while i <= tam:\n",
        "    print(s[i])\n",
        "    i = i + 1\n"
      ]
    },
    {
      "cell_type": "markdown",
      "metadata": {
        "id": "mo7laVBDsPBt"
      },
      "source": [
        "#for e while manipulando listas"
      ]
    },
    {
      "cell_type": "code",
      "execution_count": null,
      "metadata": {
        "id": "4zylCyDEsTo_",
        "colab": {
          "base_uri": "https://localhost:8080/"
        },
        "outputId": "0074a38f-f0c6-4e11-d863-a820057957d1"
      },
      "outputs": [
        {
          "output_type": "stream",
          "name": "stdout",
          "text": [
            "\n",
            "Exemplo 3 - Convertendo lista, versão for\n",
            "\n",
            "Lista de valores=10.0 8.6 9.7\n",
            "['10.0', '8.6', '9.7']\n",
            "[10.0, 8.6, 9.7]\n",
            "\n",
            "Exemplo 4 - Convertendo lista, versão while\n",
            "\n",
            "Lista de valores=10 8.6 9.7\n",
            "['10', '8.6', '9.7']\n",
            "[10.0, 8.6, 9.7]\n"
          ]
        }
      ],
      "source": [
        "\n",
        "# print('\\nExemplo 1 - Média com lista, versão for\\n')\n",
        "# soma=0\n",
        "# lista=list(map(float,input('Lista de valores=').split()))\n",
        "# for x in lista:\n",
        "#   soma=soma+x\n",
        "# print(f'{soma/len(lista):.2f}')\n",
        "# ok=input(\"Continue\")\n",
        "\n",
        "# print('\\nExemplo 2 - Média com lista, versão while\\n')\n",
        "# soma=0\n",
        "# lista=list(map(float,input('Lista de valores=').split()))\n",
        "# tam = len(lista)\n",
        "# i=0\n",
        "# while(i<tam):\n",
        "#   soma=soma+lista[i]\n",
        "#   i+=1\n",
        "# print(f'{soma/len(lista):.2f}')\n",
        "# ok=input(\"Continue\")\n",
        "\n",
        "# print('\\nExemplo 2 - Exibindo lista, versão for\\n')\n",
        "# lista=list(map(float,input('Lista de valores=').split()))\n",
        "# tam = len(lista)\n",
        "# for i in range(tam):\n",
        "#     print(f'lista[{i}]={lista[i]}')\n",
        "\n",
        "# print('\\nExemplo 3 - Exibindo lista, versão while\\n')\n",
        "# lista=list(map(float,input('Lista de valores=').split()))\n",
        "# tam = len(lista)\n",
        "# i=0\n",
        "# while(i < tam):\n",
        "#   print(f'lista[{i}]={lista[i]}')\n",
        "#   i+=1\n",
        "\n",
        "print('\\nExemplo 3 - Convertendo lista, versão for\\n')\n",
        "lista= input('Lista de valores=').split()\n",
        "listaFloat = [float(i) for i in lista]\n",
        "print(lista)\n",
        "print(listaFloat)\n",
        "\n",
        "print('\\nExemplo 4 - Convertendo lista, versão while\\n')\n",
        "lista= input('Lista de valores=').split()\n",
        "listaFloat = []\n",
        "i=0\n",
        "tam = len(lista)\n",
        "while ( i<tam):\n",
        "  listaFloat.append(float(lista[i]))\n",
        "  i+=1\n",
        "print(lista)\n",
        "print(listaFloat)\n"
      ]
    },
    {
      "cell_type": "markdown",
      "metadata": {
        "id": "4f7Z4ZC5xGsu"
      },
      "source": [
        "#for e while com break"
      ]
    },
    {
      "cell_type": "code",
      "execution_count": null,
      "metadata": {
        "id": "WfAvoMCExGHD",
        "colab": {
          "base_uri": "https://localhost:8080/"
        },
        "outputId": "411d6d92-dd50-4925-adfe-cb645c74754c"
      },
      "outputs": [
        {
          "output_type": "stream",
          "name": "stdout",
          "text": [
            "15\n",
            "17\n",
            "23\n",
            "primeiro divisor de 102 é 2\n",
            "primeiro divisor de 104 é 2\n",
            "primeiro divisor de 105 é 3\n",
            "primeiro divisor de 106 é 2\n",
            "primeiro divisor de 108 é 2\n",
            "primeiro divisor de 110 é 2\n",
            "primeiro divisor de 111 é 3\n",
            "primeiro divisor de 112 é 2\n",
            "primeiro divisor de 114 é 2\n",
            "primeiro divisor de 115 é 5\n",
            "primeiro divisor de 116 é 2\n",
            "primeiro divisor de 117 é 3\n",
            "primeiro divisor de 118 é 2\n",
            "primeiro divisor de 119 é 7\n",
            "primeiro divisor de 120 é 2\n",
            "Parou tudo pq 120 é  divisível por 2 e 15\n"
          ]
        }
      ],
      "source": [
        "\n",
        "##Exemplo 1\n",
        "lista = [15,17,23,44,67,88]\n",
        "for i in lista:\n",
        "  if(i%2==0):\n",
        "    break\n",
        "  print(i)\n",
        "\n",
        "#Exemplo 2\n",
        "for i in range(101,199):\n",
        "  for j in range(2,i-1):\n",
        "    if(i%j==0):\n",
        "      print(f'primeiro divisor de {i} é {j}')\n",
        "      break\n",
        "  if(i%2==0)and(i%15==0):\n",
        "    print(f'Parou tudo pq {i} é  divisível por 2 e 15')\n",
        "    break\n"
      ]
    },
    {
      "cell_type": "markdown",
      "metadata": {
        "id": "lIaNPihFhU2t"
      },
      "source": [
        "#for e while com continue"
      ]
    },
    {
      "cell_type": "code",
      "execution_count": null,
      "metadata": {
        "colab": {
          "base_uri": "https://localhost:8080/"
        },
        "id": "L6aiu3fKhYCz",
        "outputId": "c5f6ffc5-1d3f-4a64-97d0-b20f8b474687"
      },
      "outputs": [
        {
          "output_type": "stream",
          "name": "stdout",
          "text": [
            "['a', 'b', 'c', 'd', 'e', 'f', 'g', 'h', 'i', 'j', 'k', 'l', 'm', 'n', 'o', 'p', 'q', 'r', 's', 't', 'u', 'v', 'w', 'x', 'y', 'z']\n",
            "['A', 'B', 'C', 'D', 'E', 'F', 'G', 'H', 'I', 'J', 'K', 'L', 'M', 'N', 'O', 'P', 'Q', 'R', 'S', 'T', 'U', 'V', 'W', 'X', 'Y', 'Z']\n",
            "Inválido: 2\n",
            "Inválido: 4\n",
            "Inválido: 3\n",
            "Inválido: 4\n",
            "Inválido: 1\n",
            "Inválido: $\n",
            "Inválido: *\n",
            "Inválido: $\n",
            "Inválido: 3\n",
            "Inválido: ã\n",
            "Inválido: &\n",
            "Inválido: 5\n",
            "Inválido: 0\n",
            "Válido:Joo\n"
          ]
        }
      ],
      "source": [
        "\n",
        "# #Exemplo 1\n",
        "# lista = [15,17,23,44,67,88]\n",
        "# for i in lista:\n",
        "#   if(i%2==0):\n",
        "#     continue\n",
        "#   print(i)\n",
        "\n",
        "\n",
        "# #Exemplo 2\n",
        "# for i in range(101,199):\n",
        "#   aux=[]\n",
        "#   for j in range(2,i-1):\n",
        "#     if(i%j==0):\n",
        "#       aux.append(j)\n",
        "#       continue\n",
        "#   if aux:\n",
        "#     print(f'divisores de {i}:{aux}')\n",
        "#   if(i%2==0)and(i%15==0):\n",
        "#     print(f'\\n****{i} é divisível por 2 e 15******\\n')\n",
        "\n",
        "\n",
        "#Exemplo 3\n",
        "listaA=[chr(i) for i in range(ord('a'),ord('z')+1)]\n",
        "print(listaA)\n",
        "listaB=[chr(i) for i in range(ord('A'),ord('Z')+1)]\n",
        "print(listaB)\n",
        "i = 0\n",
        "entrada = 'J24341o$*$3ã&5o0'\n",
        "tam = len(entrada)\n",
        "saida=''\n",
        "while i < tam:\n",
        "    if (entrada[i] not in listaA)and((entrada[i] not in listaB)):\n",
        "      print(f'Inválido: {entrada[i]}')\n",
        "      i+=1\n",
        "      continue\n",
        "    saida += entrada[i]\n",
        "    i+=1\n",
        "print(f'Válido:{saida}')\n",
        "\n"
      ]
    },
    {
      "cell_type": "code",
      "source": [
        "layers = [\n",
        "    [[1, 2, 3], [4, -1, 6], [7, 8, 9]],  # camada 0\n",
        "    \"INVALID\",                            # camada 1 (inteira ignorada)\n",
        "    [[10, 11, None], [12, 13, 14], [15, -5, 16]]  # camada 2\n",
        "]\n",
        "\n",
        "total = 0\n",
        "\n",
        "for L, layer in enumerate(layers):\n",
        "    # Nível 1: pular a camada inteira se inválida\n",
        "    if layer == \"INVALID\":\n",
        "        print(f\"Camada {L}: inválida -> continue (laço das camadas)\")\n",
        "        continue\n",
        "\n",
        "    for r, row in enumerate(layer):\n",
        "        # Nível 2: pular a linha inteira se houver None\n",
        "        if any(x is None for x in row):\n",
        "            print(f\"  Linha {r}: contém None -> continue (laço das linhas)\")\n",
        "            continue\n",
        "\n",
        "        for c, x in enumerate(row):\n",
        "            # Nível 3: pular só este elemento se for negativo\n",
        "            if x < 0:\n",
        "                print(f\"    Coluna {c}: negativo ({x}) -> continue (laço das colunas)\")\n",
        "                continue\n",
        "\n",
        "            total += x\n",
        "\n",
        "print(\"Total acumulado =\", total)  # -> 110\n"
      ],
      "metadata": {
        "colab": {
          "base_uri": "https://localhost:8080/"
        },
        "id": "ogZMr6XiHVut",
        "outputId": "ea2692de-2c7c-4610-8aa4-733e3f3e7129"
      },
      "execution_count": null,
      "outputs": [
        {
          "output_type": "stream",
          "name": "stdout",
          "text": [
            "    Coluna 1: negativo (-1) -> continue (laço das colunas)\n",
            "Camada 1: inválida -> continue (laço das camadas)\n",
            "  Linha 0: contém None -> continue (laço das linhas)\n",
            "    Coluna 1: negativo (-5) -> continue (laço das colunas)\n",
            "Total acumulado = 110\n"
          ]
        }
      ]
    },
    {
      "cell_type": "markdown",
      "metadata": {
        "id": "ijLdpD35m-bG"
      },
      "source": [
        "# for e while com else\n",
        "\n",
        "*  Python permite adicionar um bloco de instruções **else**  a um bloco **for** ou **while**.\n",
        "*  Funcionamento similar a estrutura condicional **if**.\n",
        "*  Se o laço terminar como previsto, **else** será executado.\n",
        "*  Se o laço terminar, por exemplo, usando **break**, o bloco **else** não será executado.\n",
        "\n"
      ]
    },
    {
      "cell_type": "code",
      "execution_count": null,
      "metadata": {
        "colab": {
          "base_uri": "https://localhost:8080/"
        },
        "id": "AsrsIEpsnIXh",
        "outputId": "2763e569-c719-4329-ee63-1f26b56f6753"
      },
      "outputs": [
        {
          "output_type": "stream",
          "name": "stdout",
          "text": [
            "Exemplo2: while com else\n",
            "Lista com apenas números ímpares:[1, 3, 5, 7, 9, 11]\n"
          ]
        }
      ],
      "source": [
        "\n",
        "# print('Exemplo1: for com else')\n",
        "# #lista=[1,3,5,7,8,9,10]\n",
        "# lista=[1,3,5,7,9,11]\n",
        "# for i in lista:\n",
        "#   if(i % 2 == 0):\n",
        "#     print(f'Número par encontrado: {i}')\n",
        "#     break\n",
        "\n",
        "#  else:\n",
        "#    print (f'Lista com apenas números ímpares:{lista}')\n",
        "\n",
        "# ok=input(\"Continue\")\n",
        "\n",
        "print('Exemplo2: while com else')\n",
        "#lista=[1,3,5,7,8,9,10]\n",
        "lista=[1,3,5,7,9,11]\n",
        "i=0\n",
        "while (i<len(lista)):\n",
        "  if lista[i] % 2 == 0:\n",
        "    print (f'Número par encontrado: {lista[i]}')\n",
        "    break\n",
        "  i+=1\n",
        "else:\n",
        "  print (f'Lista com apenas números ímpares:{lista}')\n"
      ]
    }
  ],
  "metadata": {
    "colab": {
      "provenance": [],
      "include_colab_link": true
    },
    "kernelspec": {
      "display_name": "Python 3",
      "name": "python3"
    }
  },
  "nbformat": 4,
  "nbformat_minor": 0
}