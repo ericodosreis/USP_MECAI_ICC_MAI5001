{
  "nbformat": 4,
  "nbformat_minor": 0,
  "metadata": {
    "colab": {
      "provenance": [],
      "authorship_tag": "ABX9TyPkEYDSESquoGe6ik33Miog",
      "include_colab_link": true
    },
    "kernelspec": {
      "name": "python3",
      "display_name": "Python 3"
    },
    "language_info": {
      "name": "python"
    }
  },
  "cells": [
    {
      "cell_type": "markdown",
      "metadata": {
        "id": "view-in-github",
        "colab_type": "text"
      },
      "source": [
        "<a href=\"https://colab.research.google.com/github/ericodosreis/USP_MECAI_ICC_MAI5001/blob/main/Lista_1_%5BFun%C3%A7%C3%B5es%5D.ipynb\" target=\"_parent\"><img src=\"https://colab.research.google.com/assets/colab-badge.svg\" alt=\"Open In Colab\"/></a>"
      ]
    },
    {
      "cell_type": "code",
      "execution_count": null,
      "metadata": {
        "id": "xzGjV96GAXX4"
      },
      "outputs": [],
      "source": []
    },
    {
      "cell_type": "markdown",
      "source": [
        "Disciplina: MAI5001 - Introdução à Ciência de Computação\n",
        "\n",
        "[Funções]\n"
      ],
      "metadata": {
        "id": "QGZkkB8DAkj8"
      }
    },
    {
      "cell_type": "markdown",
      "source": [
        "**Potência**\n",
        "\n",
        "Implemente uma função recursiva que calcule a potência de um número inteiro base elevado a um expoente inteiro positivo exp.\n",
        "\n",
        "A função deve retornar o valor de base^exp (base elevado à potência do expoente).\n",
        "\n",
        "Entrada:\n",
        "\n",
        "A entrada será composta por dois números inteiros positivos: a base e o expoente, separados por um espaço.\n",
        "\n",
        "\n",
        "Saída:\n",
        "\n",
        "A saída será o resultado da base elevada ao expoente.\n",
        "\n",
        "Exemplo de Entrada\n",
        "\n",
        "2 3\n",
        "\n",
        "Exemplo de Saída\n",
        "\n",
        "8"
      ],
      "metadata": {
        "id": "E6htD6RSAn4D"
      }
    },
    {
      "cell_type": "code",
      "source": [
        "# Função recursiva para calcular potência\n",
        "def potencia(base, exp):\n",
        "    if exp == 0:  # caso base\n",
        "        return 1\n",
        "    else:\n",
        "        return base * potencia(base, exp - 1)\n",
        "\n",
        "# Input\n",
        "base, exp = map(int, input().split())\n",
        "\n",
        "# Resultado\n",
        "print(potencia(base, exp))"
      ],
      "metadata": {
        "id": "Bg7kLFfUBE2e"
      },
      "execution_count": null,
      "outputs": []
    },
    {
      "cell_type": "markdown",
      "source": [
        "**Maiúsculas e minúsculas**\n",
        "\n",
        "Escreva uma função em Python que recebe uma string e retorna o número de letras maiúsculas e minúsculas.\n",
        "\n",
        "Entrada\n",
        "\n",
        "João e Maria\n",
        "\n",
        "Saída\n",
        "\n",
        "Maiúscula: 2\n",
        "\n",
        "Minúscula: 9\n"
      ],
      "metadata": {
        "id": "T7W0hkvcBiv5"
      }
    },
    {
      "cell_type": "code",
      "source": [
        "def conta_maiusculas_minusculas(texto):\n",
        "    maiusculas = 0\n",
        "    minusculas = 0\n",
        "    for char in texto:\n",
        "        if char.isupper():\n",
        "            maiusculas += 1\n",
        "        elif char.islower():\n",
        "            minusculas += 1\n",
        "    return maiusculas, minusculas\n",
        "\n",
        "# Entrada\n",
        "texto = input().strip()\n",
        "\n",
        "# Contagem\n",
        "maiusculas, minusculas = conta_maiusculas_minusculas(texto)\n",
        "\n",
        "# Saída\n",
        "print(f\"Maiúsculas: {maiusculas}\")\n",
        "print(f\"Minúsculas: {minusculas}\")"
      ],
      "metadata": {
        "id": "upCWcAbZBpnb"
      },
      "execution_count": null,
      "outputs": []
    },
    {
      "cell_type": "markdown",
      "source": [
        "**Maior divisor comum recursivo**\n",
        "\n",
        "Crie uma função recursiva que retorne o maior divisor comum (MDC) de dois valores inteiros. O MDC de dois números é o maior número que divide ambos sem deixar resto.\n",
        "\n",
        "Entrada:\n",
        "\n",
        "A entrada será composta por dois números inteiros, separados por um espaço.\n",
        "\n",
        "Saída:\n",
        "\n",
        "A saída será o maior divisor comum (MDC) desses dois números.\n",
        "\n",
        "Exemplo de Entrada\n",
        "\n",
        "10 35\n",
        "\n",
        "Exemplo de Saída\n",
        "\n",
        "5\n"
      ],
      "metadata": {
        "id": "LR-Z7L_PCVXI"
      }
    },
    {
      "cell_type": "code",
      "source": [
        "# Função recursiva para calcular o MDC\n",
        "def mdc(a, b):\n",
        "    if b == 0:\n",
        "        return a\n",
        "    else:\n",
        "        return mdc(b, a % b)\n",
        "\n",
        "# Input\n",
        "a, b = map(int, input().split())\n",
        "\n",
        "# Output\n",
        "print(mdc(a, b))\n"
      ],
      "metadata": {
        "id": "0FTPpPo_C7jo"
      },
      "execution_count": null,
      "outputs": []
    },
    {
      "cell_type": "markdown",
      "source": [
        "**Fatorial**\n",
        "\n",
        "Implemente uma função recursiva que receba um número inteiro n e retorne o fatorial de n.\n",
        "\n",
        "Entrada\n",
        "\n",
        "4\n",
        "\n",
        "Saída\n",
        "\n",
        "24"
      ],
      "metadata": {
        "id": "_8GqShHFCkD1"
      }
    },
    {
      "cell_type": "code",
      "source": [
        "# Função recursiva para calcular fatorial\n",
        "def fatorial(n):\n",
        "    if n == 0 or n == 1:  # casos base\n",
        "        return 1\n",
        "    else:\n",
        "        return n * fatorial(n - 1)\n",
        "\n",
        "# Input\n",
        "n = int(input())\n",
        "\n",
        "# Output\n",
        "print(fatorial(n))\n"
      ],
      "metadata": {
        "id": "0g4mR8fxD9pO"
      },
      "execution_count": null,
      "outputs": []
    },
    {
      "cell_type": "markdown",
      "source": [
        "**Sequência de Fibonacci**\n",
        "\n",
        "Implemente uma função recursiva que retorne o n-ésimo termo da sequência de Fibonacci.\n",
        "\n",
        "Entrada\n",
        "\n",
        "6\n",
        "\n",
        "Saída\n",
        "\n",
        "8"
      ],
      "metadata": {
        "id": "zoFV1_uhESfQ"
      }
    },
    {
      "cell_type": "code",
      "source": [
        "# Função recursiva de Fibonacci\n",
        "def fibonacci(n):\n",
        "    if n == 0:\n",
        "        return 0\n",
        "    elif n == 1:\n",
        "        return 1\n",
        "    else:\n",
        "        return fibonacci(n - 1) + fibonacci(n - 2)\n",
        "\n",
        "# Input\n",
        "n = int(input())\n",
        "\n",
        "# Output\n",
        "print(fibonacci(n))\n"
      ],
      "metadata": {
        "id": "HlRjUN5gEgLa"
      },
      "execution_count": null,
      "outputs": []
    },
    {
      "cell_type": "markdown",
      "source": [
        "**Série**\n",
        "\n",
        "Implemente uma função recursiva em Python que calcule a soma de uma série definida para um número n. Mas antes é importante entender o que é uma série.\n",
        "\n",
        "Série Harmônica: A soma de uma série como S(n) é conhecida como série harmônica, onde a soma envolve frações que vão de 1/1 até 1/n. A função recursiva deve calcular essa soma.\n",
        "\n",
        "Funcionamento Recursivo:\n",
        "\n",
        "A base da recursão ocorre quando n = 1. Nesse caso, o valor retornado deve ser 1, pois a soma de apenas 1/1 é igual a 1.\n",
        "A cada passo recursivo, a função deve somar 1/n ao valor da função para n - 1. Ou seja, a função S(n) pode ser definida como: S(n) = 1/n + S(n-1)\n",
        "A recursão termina quando n atinge o valor 1.\n",
        "\n",
        "Exemplo de Entrada\n",
        "\n",
        "7\n",
        "\n",
        "Exemplo de Saída\n",
        "\n",
        "2.592\n",
        "\n",
        "\n",
        "Entendendo o cálculo:\n",
        "\n",
        "Para n = 7, o cálculo é feito da seguinte maneira:\n",
        "\n",
        "S(7) = 1/7 + S(6)\n",
        "\n",
        "S(6) = 1/6 + S(5)\n",
        "\n",
        "S(5) = 1/5 + S(4)\n",
        "\n",
        "S(4) = 1/4 + S(3)\n",
        "\n",
        "S(3) = 1/3 + S(2)\n",
        "\n",
        "S(2) = 1/2 + S(1)\n",
        "\n",
        "S(1) = 1 (caso base)\n",
        "\n",
        "Ao retornar os valores:\n",
        "\n",
        "S(1) = 1\n",
        "\n",
        "S(2) = 1/2 + 1 = 1.5\n",
        "\n",
        "S(3) = 1/3 + 1.5 = 1.8333...\n",
        "\n",
        "S(4) = 1/4 + 1.8333... = 2.0833...\n",
        "\n",
        "S(5) = 1/5 + 2.0833... = 2.2833...\n",
        "\n",
        "S(6) = 1/6 + 2.2833... = 2.45\n",
        "\n",
        "S(7) = 1/7 + 2.45 = 2.592 (aproximado a 3 casas decimais)\n"
      ],
      "metadata": {
        "id": "SGkFy4XcEn6h"
      }
    },
    {
      "cell_type": "code",
      "source": [
        "# Função recursiva para a série harmônica\n",
        "def serie_harmonica(n):\n",
        "    if n == 1:  # caso base\n",
        "        return 1\n",
        "    else:\n",
        "        return 1/n + serie_harmonica(n - 1)\n",
        "\n",
        "# Input\n",
        "n = int(input())\n",
        "\n",
        "# Cálculo da série\n",
        "resultado = serie_harmonica(n)\n",
        "\n",
        "# Output (com 3 casas decimais)\n",
        "print(f\"{resultado:.3f}\")\n"
      ],
      "metadata": {
        "id": "w1ITPXg_FdSF"
      },
      "execution_count": null,
      "outputs": []
    },
    {
      "cell_type": "markdown",
      "source": [
        "**Balanceamento de Parênteses**\n",
        "\n",
        "Crie uma função recursiva que verifique se uma string contendo apenas parênteses ( e ) está corretamente balanceada. Uma string está corretamente balanceada se para cada ( há um correspondente ) na ordem correta.\n",
        "\n",
        "Entrada\n",
        "\n",
        "\"(())\"\n",
        "\n",
        "Saída\n",
        "\n",
        "True"
      ],
      "metadata": {
        "id": "lohmlhO3Fdyw"
      }
    },
    {
      "cell_type": "code",
      "source": [
        "def balanceado(s):\n",
        "    # Caso base: string vazia está balanceada\n",
        "    if not s:\n",
        "        return True\n",
        "\n",
        "    # Se começa com \")\", já está errado\n",
        "    if s[0] == \")\":\n",
        "        return False\n",
        "\n",
        "    # Procurar o parêntese correspondente\n",
        "    contador = 0\n",
        "    for i in range(len(s)):\n",
        "        if s[i] == \"(\":\n",
        "            contador += 1\n",
        "        else:\n",
        "            contador -= 1\n",
        "        # Quando contador voltar a zero, achamos um par válido\n",
        "        if contador == 0:\n",
        "            # Verifica recursivamente o conteúdo entre eles e o resto\n",
        "            return balanceado(s[1:i]) and balanceado(s[i+1:])\n",
        "\n",
        "    # Se terminar o loop sem fechar todos os parênteses → falso\n",
        "    return False\n",
        "\n",
        "# Input\n",
        "s = input().strip()\n",
        "\n",
        "# Output\n",
        "print(balanceado(s))\n"
      ],
      "metadata": {
        "id": "-bpv9mojFkyu"
      },
      "execution_count": null,
      "outputs": []
    }
  ]
}